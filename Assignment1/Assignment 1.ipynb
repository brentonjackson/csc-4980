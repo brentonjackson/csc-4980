{
 "cells": [
  {
   "cell_type": "markdown",
   "id": "5d4aa6b3",
   "metadata": {
    "slideshow": {
     "slide_type": "slide"
    }
   },
   "source": [
    "# Assignment 1"
   ]
  },
  {
   "cell_type": "markdown",
   "id": "8f358249",
   "metadata": {
    "slideshow": {
     "slide_type": "fragment"
    }
   },
   "source": [
    "Github repo for assignment: https://github.com/brentonjackson/csc-4980/tree/master/Assignment1\n",
    "\n",
    "I'll be using Python for the assignments in this class, as opposed to Matlab."
   ]
  },
  {
   "cell_type": "markdown",
   "id": "9222c62e",
   "metadata": {
    "slideshow": {
     "slide_type": "slide"
    }
   },
   "source": [
    "## Part A: Fundamentals\n",
    "\n",
    "Go over camera calibration toolbox and calibrate camera.\n",
    "\n",
    "It may be worth mentioning that in the [DepthAI documentation](https://docs.luxonis.com/projects/hardware/en/latest/pages/guides/calibration.html), for the nonmodular cameras, they've already been calibrated before shipment so recalibration isn't needed. "
   ]
  },
  {
   "cell_type": "markdown",
   "id": "ec62c1a6",
   "metadata": {
    "slideshow": {
     "slide_type": "fragment"
    }
   },
   "source": [
    "However, I've calibrated the camera by following directions at this link as a learning exercise: https://docs.opencv.org/4.x/dc/dbb/tutorial_py_calibration.html\n",
    "\n",
    "Below is the code I used to do this, in Python (skipped in slideshow), and before and after images:"
   ]
  },
  {
   "cell_type": "code",
   "execution_count": 3,
   "id": "4b35df2b",
   "metadata": {
    "slideshow": {
     "slide_type": "skip"
    }
   },
   "outputs": [
    {
     "data": {
      "text/plain": [
       "-1"
      ]
     },
     "execution_count": 3,
     "metadata": {},
     "output_type": "execute_result"
    }
   ],
   "source": [
    "#!/usr/bin/env python3\n",
    "\n",
    "# Camera calibration for the OAK-D Lite camera (or any camera)\n",
    "\n",
    "\n",
    "import numpy as np\n",
    "import cv2 as cv\n",
    "import glob\n",
    "\n",
    "# 1. get object points and image points\n",
    "# termination criteria\n",
    "criteria = (cv.TERM_CRITERIA_EPS + cv.TERM_CRITERIA_MAX_ITER, 30, 0.001)\n",
    "# prepare object points, like (0,0,0), (1,0,0), (2,0,0) ....,(6,5,0)\n",
    "objp = np.zeros((6*7, 3), np.float32)\n",
    "objp[:, :2] = np.mgrid[0:7, 0:6].T.reshape(-1, 2)\n",
    "# Arrays to store object points and image points from all the images.\n",
    "objpoints = []  # 3d point in real world space\n",
    "imgpoints = []  # 2d points in image plane.\n",
    "images = glob.glob('../opencv-samples/left*.jpg')\n",
    "for fname in images:\n",
    "    img = cv.imread(fname)\n",
    "    gray = cv.cvtColor(img, cv.COLOR_BGR2GRAY)\n",
    "    # Find the chess board corners\n",
    "    ret, corners = cv.findChessboardCorners(gray, (7, 6), None)\n",
    "    # If found, add object points, image points (after refining them)\n",
    "    if ret == True:\n",
    "        objpoints.append(objp)\n",
    "        corners2 = cv.cornerSubPix(gray, corners, (11, 11), (-1, -1), criteria)\n",
    "        imgpoints.append(corners2)\n",
    "        # Draw and display the corners\n",
    "        cv.drawChessboardCorners(img, (7, 6), corners2, ret)\n",
    "        cv.imshow('img', img)\n",
    "        cv.waitKey(500)\n",
    "cv.destroyAllWindows()\n",
    "\n",
    "\n",
    "# 2. calibrate camera\n",
    "ret, mtx, dist, rvecs, tvecs = cv.calibrateCamera(objpoints, imgpoints, gray.shape[::-1], None, None)\n",
    "\n",
    "# 3. undistort image\n",
    "img = cv.imread('../opencv-samples/left12.jpg')\n",
    "h,  w = img.shape[:2]\n",
    "newcameramtx, roi = cv.getOptimalNewCameraMatrix(mtx, dist, (w,h), 1, (w,h))\n",
    "\n",
    "# undistort\n",
    "dst = cv.undistort(img, mtx, dist, None, newcameramtx)\n",
    "# crop the image\n",
    "x, y, w, h = roi\n",
    "dst = dst[y:y+h, x:x+w]\n",
    "cv.imwrite('calibresult.png', dst)\n",
    "cv.imshow('calibrate result', dst)\n",
    "cv.waitKey(500)"
   ]
  },
  {
   "cell_type": "markdown",
   "id": "a837d137",
   "metadata": {
    "slideshow": {
     "slide_type": "subslide"
    }
   },
   "source": [
    "Distorted image:\n",
    "\n",
    "![Distorted image](https://github.com/brentonjackson/csc-4980/blob/master/opencv-samples/left12.jpg?raw=true)"
   ]
  },
  {
   "cell_type": "markdown",
   "id": "411a5f4d",
   "metadata": {
    "slideshow": {
     "slide_type": "subslide"
    }
   },
   "source": [
    "Image after calibration and undistortion:\n",
    "\n",
    "![Undistorted image](calibresult.png)"
   ]
  },
  {
   "cell_type": "markdown",
   "id": "20a3cac7",
   "metadata": {
    "slideshow": {
     "slide_type": "subslide"
    }
   },
   "source": [
    "As you can see from the curved lines in the first image, there was a considerable amount of radial distortion present.\n",
    "\n",
    "That was fixed in the latter image."
   ]
  },
  {
   "cell_type": "markdown",
   "id": "218ff938",
   "metadata": {
    "slideshow": {
     "slide_type": "slide"
    }
   },
   "source": [
    "## Part B: Matlab/Python Prototyping "
   ]
  },
  {
   "cell_type": "markdown",
   "id": "cc98b7a3",
   "metadata": {
    "slideshow": {
     "slide_type": "fragment"
    }
   },
   "source": [
    "Write a MATLAB/Python script to find the real world dimensions (e.g. diameter of a ball, side length of a cube) of an object using perspective projection equations. "
   ]
  },
  {
   "cell_type": "markdown",
   "id": "1bb217fc",
   "metadata": {
    "slideshow": {
     "slide_type": "fragment"
    }
   },
   "source": [
    "Validate using an experiment where you image an object using your camera from a specific distance (choose any distance but ensure you are able to measure it accurately) between the object and camera."
   ]
  },
  {
   "cell_type": "code",
   "execution_count": null,
   "id": "0e4072d5",
   "metadata": {},
   "outputs": [],
   "source": []
  }
 ],
 "metadata": {
  "celltoolbar": "Slideshow",
  "kernelspec": {
   "display_name": "Python 3 (ipykernel)",
   "language": "python",
   "name": "python3"
  },
  "language_info": {
   "codemirror_mode": {
    "name": "ipython",
    "version": 3
   },
   "file_extension": ".py",
   "mimetype": "text/x-python",
   "name": "python",
   "nbconvert_exporter": "python",
   "pygments_lexer": "ipython3",
   "version": "3.10.1"
  }
 },
 "nbformat": 4,
 "nbformat_minor": 5
}
