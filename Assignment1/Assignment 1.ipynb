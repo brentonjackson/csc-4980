{
 "cells": [
  {
   "cell_type": "markdown",
   "id": "5d4aa6b3",
   "metadata": {
    "slideshow": {
     "slide_type": "slide"
    }
   },
   "source": [
    "# Assignment 1"
   ]
  },
  {
   "cell_type": "markdown",
   "id": "8f358249",
   "metadata": {
    "slideshow": {
     "slide_type": "fragment"
    }
   },
   "source": [
    "Github repo for assignment: https://github.com/brentonjackson/csc-4980/tree/master/Assignment1\n",
    "\n",
    "I'll be using Python for the assignments in this class, as opposed to Matlab."
   ]
  },
  {
   "cell_type": "markdown",
   "id": "b2b83bb9",
   "metadata": {
    "slideshow": {
     "slide_type": "slide"
    }
   },
   "source": [
    "## Part A: Fundamentals\n",
    "\n",
    "Go over camera calibration toolbox and calibrate camera.\n",
    "\n",
    "It may be worth mentioning that in the [DepthAI documentation](https://docs.luxonis.com/projects/hardware/en/latest/pages/guides/calibration.html), for the nonmodular cameras, they've already been calibrated before shipment so recalibration isn't needed. "
   ]
  },
  {
   "cell_type": "markdown",
   "id": "6a63ee16",
   "metadata": {
    "slideshow": {
     "slide_type": "fragment"
    }
   },
   "source": [
    "However, I've calibrated the camera by following directions at this link as a learning exercise: https://docs.opencv.org/4.x/dc/dbb/tutorial_py_calibration.html\n",
    "\n",
    "Below is the code I used to do this, in Python (skipped in slideshow), and before and after images:"
   ]
  },
  {
   "cell_type": "code",
   "execution_count": 3,
   "id": "c5425290",
   "metadata": {
    "slideshow": {
     "slide_type": "skip"
    }
   },
   "outputs": [
    {
     "data": {
      "text/plain": [
       "-1"
      ]
     },
     "execution_count": 3,
     "metadata": {},
     "output_type": "execute_result"
    }
   ],
   "source": [
    "#!/usr/bin/env python3\n",
    "\n",
    "# Camera calibration for the OAK-D Lite camera (or any camera)\n",
    "\n",
    "\n",
    "import numpy as np\n",
    "import cv2 as cv\n",
    "import glob\n",
    "\n",
    "# 1. get object points and image points\n",
    "# termination criteria\n",
    "criteria = (cv.TERM_CRITERIA_EPS + cv.TERM_CRITERIA_MAX_ITER, 30, 0.001)\n",
    "# prepare object points, like (0,0,0), (1,0,0), (2,0,0) ....,(6,5,0)\n",
    "objp = np.zeros((6*7, 3), np.float32)\n",
    "objp[:, :2] = np.mgrid[0:7, 0:6].T.reshape(-1, 2)\n",
    "# Arrays to store object points and image points from all the images.\n",
    "objpoints = []  # 3d point in real world space\n",
    "imgpoints = []  # 2d points in image plane.\n",
    "images = glob.glob('../opencv-samples/left*.jpg')\n",
    "for fname in images:\n",
    "    img = cv.imread(fname)\n",
    "    gray = cv.cvtColor(img, cv.COLOR_BGR2GRAY)\n",
    "    # Find the chess board corners\n",
    "    ret, corners = cv.findChessboardCorners(gray, (7, 6), None)\n",
    "    # If found, add object points, image points (after refining them)\n",
    "    if ret == True:\n",
    "        objpoints.append(objp)\n",
    "        corners2 = cv.cornerSubPix(gray, corners, (11, 11), (-1, -1), criteria)\n",
    "        imgpoints.append(corners2)\n",
    "        # Draw and display the corners\n",
    "        cv.drawChessboardCorners(img, (7, 6), corners2, ret)\n",
    "        cv.imshow('img', img)\n",
    "        cv.waitKey(500)\n",
    "cv.destroyAllWindows()\n",
    "\n",
    "\n",
    "# 2. calibrate camera\n",
    "ret, mtx, dist, rvecs, tvecs = cv.calibrateCamera(objpoints, imgpoints, gray.shape[::-1], None, None)\n",
    "\n",
    "# 3. undistort image\n",
    "img = cv.imread('../opencv-samples/left12.jpg')\n",
    "h,  w = img.shape[:2]\n",
    "newcameramtx, roi = cv.getOptimalNewCameraMatrix(mtx, dist, (w,h), 1, (w,h))\n",
    "\n",
    "# undistort\n",
    "dst = cv.undistort(img, mtx, dist, None, newcameramtx)\n",
    "# crop the image\n",
    "x, y, w, h = roi\n",
    "dst = dst[y:y+h, x:x+w]\n",
    "cv.imwrite('calibresult.png', dst)\n",
    "cv.imshow('calibrate result', dst)\n",
    "cv.waitKey(500)"
   ]
  },
  {
   "cell_type": "markdown",
   "id": "c0b60bf5",
   "metadata": {
    "slideshow": {
     "slide_type": "subslide"
    }
   },
   "source": [
    "Distorted image:\n",
    "\n",
    "![Distorted image](https://github.com/brentonjackson/csc-4980/blob/master/opencv-samples/left12.jpg?raw=true)"
   ]
  },
  {
   "cell_type": "markdown",
   "id": "1854df9e",
   "metadata": {
    "slideshow": {
     "slide_type": "subslide"
    }
   },
   "source": [
    "Image after calibration and undistortion:\n",
    "\n",
    "![Undistorted image](calibresult.png)"
   ]
  },
  {
   "cell_type": "markdown",
   "id": "747b13ce",
   "metadata": {
    "slideshow": {
     "slide_type": "subslide"
    }
   },
   "source": [
    "As you can see from the curved lines in the first image, there was a considerable amount of radial distortion present.\n",
    "\n",
    "That was fixed in the latter image."
   ]
  },
  {
   "cell_type": "markdown",
   "id": "d58cb9cd",
   "metadata": {
    "slideshow": {
     "slide_type": "slide"
    }
   },
   "source": [
    "## Part B: Matlab/Python Prototyping "
   ]
  },
  {
   "cell_type": "markdown",
   "id": "25fd1e63",
   "metadata": {
    "slideshow": {
     "slide_type": "fragment"
    }
   },
   "source": [
    "Write a MATLAB/Python script to find the real world dimensions (e.g. diameter of a ball, side length of a cube) of an object using perspective projection equations. "
   ]
  },
  {
   "cell_type": "markdown",
   "id": "97b4cc4d",
   "metadata": {
    "slideshow": {
     "slide_type": "fragment"
    }
   },
   "source": [
    "Validate using an experiment where you image an object using your camera from a specific distance (choose any distance but ensure you are able to measure it accurately) between the object and camera."
   ]
  },
  {
   "cell_type": "markdown",
   "id": "4c793678",
   "metadata": {},
   "source": [
    "This assignment requires some background to understand before implementing in code.\n",
    "\n",
    "## Perspective Projection\n",
    "\n",
    "### Background\n",
    "\n",
    "In this example, I use the pinhole camera model to understand perspective projection.\n",
    "\n",
    "In the previous example, we learned that camera calibration required a few things:\n",
    "- **Extrinsic parameters** of the camera, e.g. rotation and translation vectors, which translates a coordinate of a 3D point to a coordinate system\n",
    "- **Intrinsic parameters** of the camera, e.g. focal length and optical centers (both given in the form of a camera matrix) - visit [this link](https://ksimek.github.io/2013/08/13/intrinsic/) for a great breakdown on the intrinsic params\n",
    "- **Distortion coefficients**\n",
    "\n",
    "We used images of a chess board to find the camera matrix values since we knew the relative positions of the square corners on the board. By doing this, we were able to find intrinsic parameters of the OAK-D Lite camera.\n",
    "\n",
    "We can use those parameters (e.g. focal point and optical centers) to undistort any image taken with the camera.\n",
    "\n",
    "As will be explained in a second, we can also use one of the parameters to help us find real world coordinates of our object from 2d image coordinates. That's the goal of using perspective projection equations.\n",
    "\n",
    "\n",
    "### Use of Perspective Projection Equations\n",
    "\n",
    "The general play-by-play of part B will be to:\n",
    "1. Undistort our image\n",
    "2. Find some desired dimension in our 2D image, like height or width\n",
    "3. Use perspective projection equations to convert our desired dimension to 3D, real world values and units\n",
    "\n",
    "We know how to do 1. We've already done it, so we can modify our camera calibration script from Part A to accept any image, undistort it, then write that new image to the disk for us.\n",
    "\n",
    "For 2, we can go about it in two ways:\n",
    "1. Calculate the 2D dimensions of the object(s) in our image using object outlines, bounding boxes, and calculated Euclidean distances of those bounding box sides\n",
    "2. Allow the user to specify two points of interest and use those points to calculate the 2D dimensions of interest\n",
    "\n",
    "I will opt for method 2, since it's very easy to test in the real-world.\n",
    "\n",
    "For 3, this is where we actually make use of the equations which I will go over in the next section.\n",
    "\n",
    "### Perspective Projection Equations\n",
    "\n",
    "The perspective projection equations are equations that allow us to convert coordinates on the image plane to coordinates in the real world, and vice-versa. It uses the concept of similar triangles to essentially create a ratio. It's better explained with an image:\n",
    "\n",
    "![Perspective Projection image](perspective_projection.png)"
   ]
  },
  {
   "cell_type": "markdown",
   "id": "44dd5098",
   "metadata": {},
   "source": [
    "We can treat the middle plane as our camera and the image plane on the left as the computer screen our image is rendered on.\n",
    "\n",
    "We want to convert the point P_i on the image plane to the point P_0 in the real world on the right. To do this, we see that the optical axis sets up similar triangles. \n",
    "\n",
    "From these equations, we can see that **a point in the real world depends on the ratio of the object distance from the camera to the focal length, times the corresponding coordinate on the image plane**. Since we know the 2D image coordinates and the focal length of the camera, which we got from our camera matrix, we only need to know the distance of the object from the camera.\n",
    "\n",
    "We can give that distance to our program as a required parameter."
   ]
  },
  {
   "cell_type": "markdown",
   "id": "80bd4abd",
   "metadata": {},
   "source": [
    "Below is the code that achieves this:"
   ]
  },
  {
   "cell_type": "code",
   "execution_count": null,
   "id": "d6530780",
   "metadata": {},
   "outputs": [],
   "source": []
  }
 ],
 "metadata": {
  "celltoolbar": "Slideshow",
  "kernelspec": {
   "display_name": "Python 3 (ipykernel)",
   "language": "python",
   "name": "python3"
  },
  "language_info": {
   "codemirror_mode": {
    "name": "ipython",
    "version": 3
   },
   "file_extension": ".py",
   "mimetype": "text/x-python",
   "name": "python",
   "nbconvert_exporter": "python",
   "pygments_lexer": "ipython3",
   "version": "3.10.1"
  }
 },
 "nbformat": 4,
 "nbformat_minor": 5
}
