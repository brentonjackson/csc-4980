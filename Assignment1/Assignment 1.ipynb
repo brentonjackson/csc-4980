{
 "cells": [
  {
   "cell_type": "markdown",
   "id": "5d4aa6b3",
   "metadata": {
    "slideshow": {
     "slide_type": "slide"
    }
   },
   "source": [
    "Hi. Welcome to my Jupyter Notebook"
   ]
  },
  {
   "cell_type": "markdown",
   "id": "8f358249",
   "metadata": {
    "slideshow": {
     "slide_type": "slide"
    }
   },
   "source": [
    "This is Assignment 1.\n",
    "The task is to first, calibrate my camera.\n",
    "Then I will calculate the distance of an object from my camera."
   ]
  },
  {
   "cell_type": "code",
   "execution_count": null,
   "id": "6d4a4425",
   "metadata": {},
   "outputs": [],
   "source": []
  }
 ],
 "metadata": {
  "celltoolbar": "Slideshow",
  "kernelspec": {
   "display_name": "Python 3 (ipykernel)",
   "language": "python",
   "name": "python3"
  },
  "language_info": {
   "codemirror_mode": {
    "name": "ipython",
    "version": 3
   },
   "file_extension": ".py",
   "mimetype": "text/x-python",
   "name": "python",
   "nbconvert_exporter": "python",
   "pygments_lexer": "ipython3",
   "version": "3.10.1"
  }
 },
 "nbformat": 4,
 "nbformat_minor": 5
}
