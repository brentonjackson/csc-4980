{
 "cells": [
  {
   "cell_type": "markdown",
   "id": "fb487000",
   "metadata": {},
   "source": [
    "# Assignment 2"
   ]
  },
  {
   "cell_type": "markdown",
   "id": "8f358249",
   "metadata": {
    "slideshow": {
     "slide_type": "fragment"
    }
   },
   "source": [
    "Github repo for assignment: https://github.com/brentonjackson/csc-4980/tree/master/Assignment2\n",
    "\n",
    "I'll be using Python for the assignments in this class, as opposed to Matlab."
   ]
  },
  {
   "cell_type": "markdown",
   "id": "43aa301a",
   "metadata": {
    "slideshow": {
     "slide_type": "slide"
    }
   },
   "source": [
    "## Part I:\n",
    "\n",
    "1. Capture 10s handheld video footage and pan from left to right or right to left.\n",
    "\n",
    "\n",
    "2. Convert all frames to grayscale. \n",
    "\n",
    "    - Pick one frame and find the boundary of any object using Harris corner and Canny edge detection.\n",
    "   \n",
    "\n",
    "3. Pick another image frame that has the same object in view as the previous image.\n",
    "    \n",
    "   - Find all corresponding points of the object between the two images.\n",
    "   \n",
    "   - Find the homography matrix between the images"
   ]
  },
  {
   "cell_type": "markdown",
   "id": "53807ea7",
   "metadata": {
    "slideshow": {
     "slide_type": "slide"
    }
   },
   "source": [
    "## Part II:\n",
    "\n",
    "Implement the image stitching application in MATLAB (not necessary to be real-time).\n",
    "\n",
    "Test your application for any FIVE of a set of 3 image-set available in the gsu_building_database."
   ]
  },
  {
   "cell_type": "markdown",
   "id": "4f1f29ed",
   "metadata": {
    "slideshow": {
     "slide_type": "slide"
    }
   },
   "source": [
    "## Part III:\n",
    "\n",
    "Implement an application that will compute and display the INTEGRAL image feed along with the stereo and RGB feed."
   ]
  },
  {
   "cell_type": "markdown",
   "id": "9a5e54d2",
   "metadata": {
    "slideshow": {
     "slide_type": "slide"
    }
   },
   "source": [
    "## Part IV:\n",
    "\n",
    "Implement the image stitching, for at least 1 pair of images. Use SIFT features."
   ]
  },
  {
   "cell_type": "markdown",
   "id": "280d7a71",
   "metadata": {
    "slideshow": {
     "slide_type": "slide"
    }
   },
   "source": [
    "## Part V:\n",
    "\n",
    "Repeat (4) using ORB features."
   ]
  },
  {
   "cell_type": "code",
   "execution_count": null,
   "id": "6cf254b1",
   "metadata": {},
   "outputs": [],
   "source": []
  }
 ],
 "metadata": {
  "kernelspec": {
   "display_name": "Python 3 (ipykernel)",
   "language": "python",
   "name": "python3"
  },
  "language_info": {
   "codemirror_mode": {
    "name": "ipython",
    "version": 3
   },
   "file_extension": ".py",
   "mimetype": "text/x-python",
   "name": "python",
   "nbconvert_exporter": "python",
   "pygments_lexer": "ipython3",
   "version": "3.10.1"
  }
 },
 "nbformat": 4,
 "nbformat_minor": 5
}
